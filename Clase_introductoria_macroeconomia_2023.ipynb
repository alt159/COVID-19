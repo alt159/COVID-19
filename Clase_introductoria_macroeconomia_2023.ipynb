{
  "cells": [
    {
      "cell_type": "markdown",
      "metadata": {
        "id": "view-in-github",
        "colab_type": "text"
      },
      "source": [
        "<a href=\"https://colab.research.google.com/github/alt159/COVID-19/blob/master/Clase_introductoria_macroeconomia_2023.ipynb\" target=\"_parent\"><img src=\"https://colab.research.google.com/assets/colab-badge.svg\" alt=\"Open In Colab\"/></a>"
      ]
    },
    {
      "cell_type": "markdown",
      "source": [
        "# ¿Por qué estudiar Ciencia de Datos y Machine Learning?\n",
        "\n",
        "## Introducción\n",
        "La ciencia de datos es una disciplina que utiliza herramientas y técnicas de estadística, programación y matemáticas para analizar grandes conjuntos de datos con el objetivo de obtener conocimiento y comprensión de los mismos. En la actualidad, la ciencia de datos se ha convertido en una de las disciplinas más importantes y con mayor demanda en el mundo laboral debido al gran volumen de datos que se generan diariamente.\n",
        "\n",
        "La ciencia de datos permite a las empresas y organizaciones tomar decisiones basadas en datos en lugar de intuiciones o suposiciones. Además, la ciencia de datos ha permitido el avance de campos como la inteligencia artificial, el aprendizaje automático y la analítica predictiva.\n",
        "\n",
        "## Creciente demanda de profesionales en ciencia de datos\n",
        "La demanda de profesionales en ciencia de datos ha aumentado exponencialmente en los últimos años debido a la gran cantidad de datos que se generan diariamente y a la necesidad de procesarlos y analizarlos para obtener información valiosa. Según un estudio de IBM, en el año 2020 se generaron 2.5 trillones de bytes de datos al día, y se estima que para el año 2025 se generen 463 exabytes de datos al día.\n",
        "\n",
        "Debido a esta creciente demanda de profesionales en ciencia de datos, hay una gran cantidad de trabajos disponibles en todo el mundo. En la actualidad, hay una gran cantidad de empresas que buscan profesionales en ciencia de datos, como Google, Amazon, Microsoft, Facebook, entre otras. Según un informe de LinkedIn, los trabajos en ciencia de datos son los trabajos más prometedores en el mercado laboral actualmente.\n",
        "\n",
        "## Amplia variedad de áreas de aplicación de la ciencia de datos\n",
        "La ciencia de datos se aplica en una gran cantidad de áreas, como finanzas, marketing, salud, energía, transporte, entre otras. En finanzas, la ciencia de datos se utiliza para analizar y predecir el comportamiento del mercado y de los precios de los activos. En marketing, la ciencia de datos se utiliza para analizar el comportamiento del consumidor y para desarrollar estrategias de marketing personalizadas. En salud, la ciencia de datos se utiliza para analizar grandes cantidades de información médica y para desarrollar tratamientos personalizados.\n",
        "\n",
        "Algunos ejemplos concretos de cómo se ha aplicado la ciencia de datos para resolver problemas reales son la detección temprana del cáncer de mama utilizando inteligencia artificial, la optimización de rutas de transporte utilizando algoritmos de aprendizaje automático y la detección de fraudes en transacciones financieras utilizando análisis de datos.\n",
        "\n",
        "## Habilidades que se adquieren al estudiar ciencia de datos\n",
        "\n",
        "Estudiar ciencia de datos permite adquirir habilidades técnicas como programación, análisis estadístico y modelado matemático, así como habilidades blandas como comunicación, resolución de problemas y trabajo en equipo.\n",
        "\n",
        "En cuanto a habilidades técnicas, el estudio de la ciencia de datos permite adquirir habilidades en lenguajes de programación como Python y R, bases de datos y herramientas de análisis estadístico y visualización de datos como Tableau y Power BI. Además, se aprende a utilizar algoritmos de aprendizaje automático y técnicas de minería de datos para analizar grandes conjuntos de datos.\n",
        "\n",
        "Por otro lado, el estudio de la ciencia de datos también implica el desarrollo de habilidades blandas importantes como la comunicación efectiva, la capacidad de resolución de problemas y el trabajo en equipo. Estas habilidades son necesarias para trabajar en proyectos de ciencia de datos en equipo, presentar resultados y explicar conclusiones a personas que no son expertas en el área.\n",
        "\n",
        "## Salarios atractivos y oportunidades de crecimiento profesional\n",
        "Los profesionales en ciencia de datos son muy valorados en el mercado laboral y, por lo tanto, suelen tener salarios atractivos y oportunidades de crecimiento profesional. Según el sitio web Glassdoor, el salario promedio de un científico de datos en Estados Unidos es de $113,309 por año, y este salario puede aumentar considerablemente con la experiencia y habilidades adicionales. Además, la ciencia de datos ofrece la posibilidad de crecer profesionalmente y avanzar en la carrera a través de la especialización en áreas como la inteligencia artificial, el aprendizaje automático y la analítica predictiva.\n",
        "\n",
        "## ¿Y el Machine Learning?\n",
        "\n",
        "Por otro lado, el Machine Learning, o aprendizaje automático en español, es una rama de la inteligencia artificial que se enfoca en desarrollar algoritmos y modelos que permiten a las máquinas aprender a partir de datos y mejorar su desempeño en tareas específicas sin necesidad de programación explícita.\n",
        "\n",
        "En términos generales, el Machine Learning se puede dividir en dos categorías: el aprendizaje supervisado y el aprendizaje no supervisado. En el aprendizaje supervisado, los modelos se entrenan con datos etiquetados, es decir, datos que tienen una respuesta o resultado conocido. Por ejemplo, se puede entrenar un modelo para predecir el precio de una casa a partir de características como la ubicación, el tamaño y el número de habitaciones, utilizando un conjunto de datos que incluya información sobre el precio de las casas en diferentes ubicaciones. En el aprendizaje no supervisado, los modelos se entrenan con datos sin etiquetar, con el objetivo de encontrar patrones y estructuras en los datos. Por ejemplo, se puede utilizar el clustering para agrupar clientes según sus patrones de compra y así identificar grupos específicos y ajustar la estrategia de marketing.\n",
        "\n",
        "Para un economista, el Machine Learning ofrece diversas aplicaciones prácticas que pueden mejorar su trabajo diario. Algunas de las aplicaciones más relevantes son:\n",
        "\n",
        "- Análisis de datos económicos: el Machine Learning puede ser utilizado para analizar grandes conjuntos de datos económicos y extraer patrones y tendencias que de otra manera serían difíciles de detectar. Por ejemplo, se puede utilizar el aprendizaje supervisado para predecir el crecimiento económico de un país a partir de indicadores como el PIB, el desempleo y la inflación. Algunos ejemplos concretos: \n",
        "\n",
        "- Modelos de pronóstico: el Machine Learning puede ser utilizado para desarrollar modelos de pronóstico más precisos y detallados que los modelos tradicionales. Por ejemplo, se puede utilizar el aprendizaje supervisado para predecir la demanda de un producto o servicio a partir de variables como el precio, la publicidad y las características del producto.\n",
        "\n",
        "- Análisis de riesgo: el Machine Learning puede ser utilizado para identificar y evaluar riesgos económicos y financieros. Por ejemplo, se puede utilizar el aprendizaje supervisado para detectar patrones de fraude en transacciones financieras y prevenir pérdidas para la empresa.\n",
        "\n",
        "En conclusión, el Machine Learning es una herramienta poderosa para el análisis de datos económicos y la toma de decisiones informadas en la economía. Como economista, la comprensión y aplicación del Machine Learning puede mejorar significativamente su capacidad para analizar, predecir y tomar decisiones precisas y basadas en datos en su trabajo diario.\n",
        "\n",
        "El Machine Learning y la Ciencia de Datos están estrechamente relacionados y se complementan mutuamente. La Ciencia de Datos es un campo interdisciplinario que involucra la recopilación, limpieza, procesamiento, análisis y visualización de grandes conjuntos de datos para extraer conocimiento y descubrir patrones y tendencias. Por otro lado, el Machine Learning es una rama de la Inteligencia Artificial que se enfoca en el desarrollo de algoritmos y modelos que permiten a las máquinas aprender a partir de datos y mejorar su desempeño en tareas específicas sin necesidad de programación explícita.\n",
        "\n",
        "En la práctica, el Machine Learning es una herramienta importante en la Ciencia de Datos, ya que permite a los científicos de datos crear modelos precisos y eficientes que pueden ser utilizados para predecir resultados, tomar decisiones informadas y automatizar procesos. Por ejemplo, en el campo de la salud, los científicos de datos pueden utilizar el Machine Learning para analizar grandes conjuntos de datos médicos y desarrollar modelos que ayuden a predecir la probabilidad de que un paciente desarrolle una enfermedad en particular. En el campo del marketing, los científicos de datos pueden utilizar el Machine Learning para analizar el comportamiento del consumidor y desarrollar modelos que ayuden a predecir la probabilidad de que un cliente compre un producto en particular.\n",
        "\n",
        "Además, el Machine Learning es una de las herramientas más utilizadas en la Ciencia de Datos para la construcción de modelos predictivos y descriptivos. Al utilizar técnicas de Machine Learning, los científicos de datos pueden crear modelos que aprenden de los datos y mejoran su precisión a medida que se les alimenta con más información. Esto les permite crear modelos más precisos y eficientes que pueden ser utilizados para resolver problemas complejos en una amplia gama de industrias.\n",
        "\n",
        "En resumen, el Machine Learning y la Ciencia de Datos son disciplinas interrelacionadas que se complementan mutuamente. El Machine Learning es una herramienta importante en la Ciencia de Datos que permite a los científicos de datos crear modelos precisos y eficientes que pueden ser utilizados para predecir resultados, tomar decisiones informadas y automatizar procesos."
      ],
      "metadata": {
        "id": "5emgnMLD6cir"
      }
    },
    {
      "cell_type": "code",
      "execution_count": null,
      "metadata": {
        "id": "ls9RBJrfKRmF"
      },
      "outputs": [],
      "source": [
        "import os # esto no es parte del código\n",
        "import pandas as pd # esto es un comentario \n",
        "import numpy as np\n",
        "import matplotlib.pyplot as plt"
      ]
    },
    {
      "cell_type": "code",
      "source": [
        "pip install matplotlib"
      ],
      "metadata": {
        "colab": {
          "base_uri": "https://localhost:8080/"
        },
        "id": "tRoVIlOZU6ml",
        "outputId": "e2a2860f-1ad1-46d1-be38-95f762e975e8"
      },
      "execution_count": null,
      "outputs": [
        {
          "output_type": "stream",
          "name": "stdout",
          "text": [
            "Looking in indexes: https://pypi.org/simple, https://us-python.pkg.dev/colab-wheels/public/simple/\n",
            "Requirement already satisfied: matplotlib in /usr/local/lib/python3.9/dist-packages (3.7.1)\n",
            "Requirement already satisfied: kiwisolver>=1.0.1 in /usr/local/lib/python3.9/dist-packages (from matplotlib) (1.4.4)\n",
            "Requirement already satisfied: importlib-resources>=3.2.0 in /usr/local/lib/python3.9/dist-packages (from matplotlib) (5.12.0)\n",
            "Requirement already satisfied: python-dateutil>=2.7 in /usr/local/lib/python3.9/dist-packages (from matplotlib) (2.8.2)\n",
            "Requirement already satisfied: fonttools>=4.22.0 in /usr/local/lib/python3.9/dist-packages (from matplotlib) (4.39.2)\n",
            "Requirement already satisfied: contourpy>=1.0.1 in /usr/local/lib/python3.9/dist-packages (from matplotlib) (1.0.7)\n",
            "Requirement already satisfied: numpy>=1.20 in /usr/local/lib/python3.9/dist-packages (from matplotlib) (1.22.4)\n",
            "Requirement already satisfied: packaging>=20.0 in /usr/local/lib/python3.9/dist-packages (from matplotlib) (23.0)\n",
            "Requirement already satisfied: pillow>=6.2.0 in /usr/local/lib/python3.9/dist-packages (from matplotlib) (8.4.0)\n",
            "Requirement already satisfied: pyparsing>=2.3.1 in /usr/local/lib/python3.9/dist-packages (from matplotlib) (3.0.9)\n",
            "Requirement already satisfied: cycler>=0.10 in /usr/local/lib/python3.9/dist-packages (from matplotlib) (0.11.0)\n",
            "Requirement already satisfied: zipp>=3.1.0 in /usr/local/lib/python3.9/dist-packages (from importlib-resources>=3.2.0->matplotlib) (3.15.0)\n",
            "Requirement already satisfied: six>=1.5 in /usr/local/lib/python3.9/dist-packages (from python-dateutil>=2.7->matplotlib) (1.16.0)\n"
          ]
        }
      ]
    },
    {
      "cell_type": "code",
      "source": [
        "from google.colab import drive\n",
        "drive.mount('/content/drive/',force_remount=True)"
      ],
      "metadata": {
        "colab": {
          "base_uri": "https://localhost:8080/"
        },
        "id": "zDCoj640OXzo",
        "outputId": "112f2221-e252-4891-ed9e-c73c0560a5ee"
      },
      "execution_count": null,
      "outputs": [
        {
          "output_type": "stream",
          "name": "stdout",
          "text": [
            "Mounted at /content/drive/\n"
          ]
        }
      ]
    },
    {
      "cell_type": "code",
      "execution_count": null,
      "metadata": {
        "colab": {
          "base_uri": "https://localhost:8080/",
          "height": 206
        },
        "id": "1cGlI_RQKRmM",
        "outputId": "ca320593-6ebe-48e9-f7be-0fef2e6e3e22"
      },
      "outputs": [
        {
          "output_type": "execute_result",
          "data": {
            "text/plain": [
              "   PERIODO INDICADOR       Peru     Mundo\n",
              "47    2018   PBI VAR   3.976502  3.104072\n",
              "48    2019   PBI VAR   2.150000  2.487000\n",
              "49    2020   PBI VAR -11.018000 -3.456000\n",
              "50    2021   PBI VAR  13.297000  5.805000\n",
              "51    2022   PBI VAR   2.955000  3.489000"
            ],
            "text/html": [
              "\n",
              "  <div id=\"df-3c261484-4386-458e-a86e-2114f3a30976\">\n",
              "    <div class=\"colab-df-container\">\n",
              "      <div>\n",
              "<style scoped>\n",
              "    .dataframe tbody tr th:only-of-type {\n",
              "        vertical-align: middle;\n",
              "    }\n",
              "\n",
              "    .dataframe tbody tr th {\n",
              "        vertical-align: top;\n",
              "    }\n",
              "\n",
              "    .dataframe thead th {\n",
              "        text-align: right;\n",
              "    }\n",
              "</style>\n",
              "<table border=\"1\" class=\"dataframe\">\n",
              "  <thead>\n",
              "    <tr style=\"text-align: right;\">\n",
              "      <th></th>\n",
              "      <th>PERIODO</th>\n",
              "      <th>INDICADOR</th>\n",
              "      <th>Peru</th>\n",
              "      <th>Mundo</th>\n",
              "    </tr>\n",
              "  </thead>\n",
              "  <tbody>\n",
              "    <tr>\n",
              "      <th>47</th>\n",
              "      <td>2018</td>\n",
              "      <td>PBI VAR</td>\n",
              "      <td>3.976502</td>\n",
              "      <td>3.104072</td>\n",
              "    </tr>\n",
              "    <tr>\n",
              "      <th>48</th>\n",
              "      <td>2019</td>\n",
              "      <td>PBI VAR</td>\n",
              "      <td>2.150000</td>\n",
              "      <td>2.487000</td>\n",
              "    </tr>\n",
              "    <tr>\n",
              "      <th>49</th>\n",
              "      <td>2020</td>\n",
              "      <td>PBI VAR</td>\n",
              "      <td>-11.018000</td>\n",
              "      <td>-3.456000</td>\n",
              "    </tr>\n",
              "    <tr>\n",
              "      <th>50</th>\n",
              "      <td>2021</td>\n",
              "      <td>PBI VAR</td>\n",
              "      <td>13.297000</td>\n",
              "      <td>5.805000</td>\n",
              "    </tr>\n",
              "    <tr>\n",
              "      <th>51</th>\n",
              "      <td>2022</td>\n",
              "      <td>PBI VAR</td>\n",
              "      <td>2.955000</td>\n",
              "      <td>3.489000</td>\n",
              "    </tr>\n",
              "  </tbody>\n",
              "</table>\n",
              "</div>\n",
              "      <button class=\"colab-df-convert\" onclick=\"convertToInteractive('df-3c261484-4386-458e-a86e-2114f3a30976')\"\n",
              "              title=\"Convert this dataframe to an interactive table.\"\n",
              "              style=\"display:none;\">\n",
              "        \n",
              "  <svg xmlns=\"http://www.w3.org/2000/svg\" height=\"24px\"viewBox=\"0 0 24 24\"\n",
              "       width=\"24px\">\n",
              "    <path d=\"M0 0h24v24H0V0z\" fill=\"none\"/>\n",
              "    <path d=\"M18.56 5.44l.94 2.06.94-2.06 2.06-.94-2.06-.94-.94-2.06-.94 2.06-2.06.94zm-11 1L8.5 8.5l.94-2.06 2.06-.94-2.06-.94L8.5 2.5l-.94 2.06-2.06.94zm10 10l.94 2.06.94-2.06 2.06-.94-2.06-.94-.94-2.06-.94 2.06-2.06.94z\"/><path d=\"M17.41 7.96l-1.37-1.37c-.4-.4-.92-.59-1.43-.59-.52 0-1.04.2-1.43.59L10.3 9.45l-7.72 7.72c-.78.78-.78 2.05 0 2.83L4 21.41c.39.39.9.59 1.41.59.51 0 1.02-.2 1.41-.59l7.78-7.78 2.81-2.81c.8-.78.8-2.07 0-2.86zM5.41 20L4 18.59l7.72-7.72 1.47 1.35L5.41 20z\"/>\n",
              "  </svg>\n",
              "      </button>\n",
              "      \n",
              "  <style>\n",
              "    .colab-df-container {\n",
              "      display:flex;\n",
              "      flex-wrap:wrap;\n",
              "      gap: 12px;\n",
              "    }\n",
              "\n",
              "    .colab-df-convert {\n",
              "      background-color: #E8F0FE;\n",
              "      border: none;\n",
              "      border-radius: 50%;\n",
              "      cursor: pointer;\n",
              "      display: none;\n",
              "      fill: #1967D2;\n",
              "      height: 32px;\n",
              "      padding: 0 0 0 0;\n",
              "      width: 32px;\n",
              "    }\n",
              "\n",
              "    .colab-df-convert:hover {\n",
              "      background-color: #E2EBFA;\n",
              "      box-shadow: 0px 1px 2px rgba(60, 64, 67, 0.3), 0px 1px 3px 1px rgba(60, 64, 67, 0.15);\n",
              "      fill: #174EA6;\n",
              "    }\n",
              "\n",
              "    [theme=dark] .colab-df-convert {\n",
              "      background-color: #3B4455;\n",
              "      fill: #D2E3FC;\n",
              "    }\n",
              "\n",
              "    [theme=dark] .colab-df-convert:hover {\n",
              "      background-color: #434B5C;\n",
              "      box-shadow: 0px 1px 3px 1px rgba(0, 0, 0, 0.15);\n",
              "      filter: drop-shadow(0px 1px 2px rgba(0, 0, 0, 0.3));\n",
              "      fill: #FFFFFF;\n",
              "    }\n",
              "  </style>\n",
              "\n",
              "      <script>\n",
              "        const buttonEl =\n",
              "          document.querySelector('#df-3c261484-4386-458e-a86e-2114f3a30976 button.colab-df-convert');\n",
              "        buttonEl.style.display =\n",
              "          google.colab.kernel.accessAllowed ? 'block' : 'none';\n",
              "\n",
              "        async function convertToInteractive(key) {\n",
              "          const element = document.querySelector('#df-3c261484-4386-458e-a86e-2114f3a30976');\n",
              "          const dataTable =\n",
              "            await google.colab.kernel.invokeFunction('convertToInteractive',\n",
              "                                                     [key], {});\n",
              "          if (!dataTable) return;\n",
              "\n",
              "          const docLinkHtml = 'Like what you see? Visit the ' +\n",
              "            '<a target=\"_blank\" href=https://colab.research.google.com/notebooks/data_table.ipynb>data table notebook</a>'\n",
              "            + ' to learn more about interactive tables.';\n",
              "          element.innerHTML = '';\n",
              "          dataTable['output_type'] = 'display_data';\n",
              "          await google.colab.output.renderOutput(dataTable, element);\n",
              "          const docLink = document.createElement('div');\n",
              "          docLink.innerHTML = docLinkHtml;\n",
              "          element.appendChild(docLink);\n",
              "        }\n",
              "      </script>\n",
              "    </div>\n",
              "  </div>\n",
              "  "
            ]
          },
          "metadata": {},
          "execution_count": 4
        }
      ],
      "source": [
        "df = pd.read_excel ('/content/drive/MyDrive/UDEP/A_2023/INTRODUCCION_MACRO_T.xlsx',converters={'PERIODO':str})\n",
        "df.tail()"
      ]
    },
    {
      "cell_type": "code",
      "execution_count": null,
      "metadata": {
        "colab": {
          "base_uri": "https://localhost:8080/"
        },
        "id": "sOQ9c-_TKRmO",
        "outputId": "83649b32-f64e-4f63-a5ec-ccee6df79710"
      },
      "outputs": [
        {
          "output_type": "stream",
          "name": "stdout",
          "text": [
            "   PERIODO INDICADOR       Peru     Mundo\n",
            "0     1971   PBI VAR   4.590540  4.372664\n",
            "1     1972   PBI VAR   3.477535  5.445089\n",
            "2     1973   PBI VAR   6.276935  6.410588\n",
            "3     1974   PBI VAR   9.386835  2.165404\n",
            "4     1975   PBI VAR   4.300863  0.759570\n",
            "5     1976   PBI VAR   1.447111  5.299514\n",
            "6     1977   PBI VAR   0.349064  4.134422\n",
            "7     1978   PBI VAR  -2.642503  4.235631\n",
            "8     1979   PBI VAR   4.090751  4.046839\n",
            "9     1980   PBI VAR   5.943335  1.882455\n",
            "10    1981   PBI VAR   5.552042  1.838434\n",
            "11    1982   PBI VAR  -0.222723  0.413733\n",
            "12    1983   PBI VAR -10.408086  2.821802\n",
            "13    1984   PBI VAR   3.608287  4.636829\n",
            "14    1985   PBI VAR   2.061132  3.546252\n",
            "15    1986   PBI VAR   9.425962  3.277039\n",
            "16    1987   PBI VAR   9.726146  3.663534\n",
            "17    1988   PBI VAR  -9.441273  4.520036\n",
            "18    1989   PBI VAR -12.312041  3.664232\n",
            "19    1990   PBI VAR  -4.982564  2.978549\n",
            "20    1991   PBI VAR   2.219259  1.295339\n",
            "21    1992   PBI VAR  -0.540509  2.077148\n",
            "22    1993   PBI VAR   5.243577  1.769321\n",
            "23    1994   PBI VAR  12.308366  3.279822\n",
            "24    1995   PBI VAR   7.411395  3.136337\n",
            "25    1996   PBI VAR   2.798973  3.582409\n",
            "26    1997   PBI VAR   6.476824  3.899138\n",
            "27    1998   PBI VAR  -0.391538  2.839480\n",
            "28    1999   PBI VAR   1.494911  3.506446\n",
            "29    2000   PBI VAR   2.694371  4.413063\n",
            "30    2001   PBI VAR   0.617892  2.098193\n",
            "31    2002   PBI VAR   5.453529  2.288517\n",
            "32    2003   PBI VAR   4.165023  3.122513\n",
            "33    2004   PBI VAR   4.958203  4.485165\n",
            "34    2005   PBI VAR   6.285060  4.074034\n",
            "35    2006   PBI VAR   7.528899  4.532488\n",
            "36    2007   PBI VAR   8.518388  4.395207\n",
            "37    2008   PBI VAR   9.126568  2.019860\n",
            "38    2009   PBI VAR   1.095824 -1.280185\n",
            "39    2010   PBI VAR   8.332459  4.431955\n",
            "40    2011   PBI VAR   6.327192  3.286883\n",
            "41    2012   PBI VAR   6.139725  2.745955\n",
            "42    2013   PBI VAR   5.852518  2.740429\n",
            "43    2014   PBI VAR   2.381938  3.025048\n",
            "44    2015   PBI VAR   3.255890  3.035870\n",
            "45    2016   PBI VAR   3.955882  2.673663\n",
            "46    2017   PBI VAR   2.519089  3.308924\n",
            "47    2018   PBI VAR   3.976502  3.104072\n",
            "48    2019   PBI VAR   2.150000  2.487000\n",
            "49    2020   PBI VAR -11.018000 -3.456000\n",
            "50    2021   PBI VAR  13.297000  5.805000\n",
            "51    2022   PBI VAR   2.955000  3.489000\n"
          ]
        }
      ],
      "source": [
        "print(df)"
      ]
    },
    {
      "cell_type": "code",
      "execution_count": null,
      "metadata": {
        "id": "NnvcLHwaKRmP",
        "outputId": "cf0ee4bd-da58-4cb2-df7d-89adfa98871e",
        "colab": {
          "base_uri": "https://localhost:8080/",
          "height": 206
        }
      },
      "outputs": [
        {
          "output_type": "execute_result",
          "data": {
            "text/plain": [
              "  PERIODO INDICADOR      Peru     Mundo\n",
              "0    1971   PBI VAR  4.590540  4.372664\n",
              "1    1972   PBI VAR  3.477535  5.445089\n",
              "2    1973   PBI VAR  6.276935  6.410588\n",
              "3    1974   PBI VAR  9.386835  2.165404\n",
              "4    1975   PBI VAR  4.300863  0.759570"
            ],
            "text/html": [
              "\n",
              "  <div id=\"df-02ca20c0-c73f-4657-8043-40ab5e20edf2\">\n",
              "    <div class=\"colab-df-container\">\n",
              "      <div>\n",
              "<style scoped>\n",
              "    .dataframe tbody tr th:only-of-type {\n",
              "        vertical-align: middle;\n",
              "    }\n",
              "\n",
              "    .dataframe tbody tr th {\n",
              "        vertical-align: top;\n",
              "    }\n",
              "\n",
              "    .dataframe thead th {\n",
              "        text-align: right;\n",
              "    }\n",
              "</style>\n",
              "<table border=\"1\" class=\"dataframe\">\n",
              "  <thead>\n",
              "    <tr style=\"text-align: right;\">\n",
              "      <th></th>\n",
              "      <th>PERIODO</th>\n",
              "      <th>INDICADOR</th>\n",
              "      <th>Peru</th>\n",
              "      <th>Mundo</th>\n",
              "    </tr>\n",
              "  </thead>\n",
              "  <tbody>\n",
              "    <tr>\n",
              "      <th>0</th>\n",
              "      <td>1971</td>\n",
              "      <td>PBI VAR</td>\n",
              "      <td>4.590540</td>\n",
              "      <td>4.372664</td>\n",
              "    </tr>\n",
              "    <tr>\n",
              "      <th>1</th>\n",
              "      <td>1972</td>\n",
              "      <td>PBI VAR</td>\n",
              "      <td>3.477535</td>\n",
              "      <td>5.445089</td>\n",
              "    </tr>\n",
              "    <tr>\n",
              "      <th>2</th>\n",
              "      <td>1973</td>\n",
              "      <td>PBI VAR</td>\n",
              "      <td>6.276935</td>\n",
              "      <td>6.410588</td>\n",
              "    </tr>\n",
              "    <tr>\n",
              "      <th>3</th>\n",
              "      <td>1974</td>\n",
              "      <td>PBI VAR</td>\n",
              "      <td>9.386835</td>\n",
              "      <td>2.165404</td>\n",
              "    </tr>\n",
              "    <tr>\n",
              "      <th>4</th>\n",
              "      <td>1975</td>\n",
              "      <td>PBI VAR</td>\n",
              "      <td>4.300863</td>\n",
              "      <td>0.759570</td>\n",
              "    </tr>\n",
              "  </tbody>\n",
              "</table>\n",
              "</div>\n",
              "      <button class=\"colab-df-convert\" onclick=\"convertToInteractive('df-02ca20c0-c73f-4657-8043-40ab5e20edf2')\"\n",
              "              title=\"Convert this dataframe to an interactive table.\"\n",
              "              style=\"display:none;\">\n",
              "        \n",
              "  <svg xmlns=\"http://www.w3.org/2000/svg\" height=\"24px\"viewBox=\"0 0 24 24\"\n",
              "       width=\"24px\">\n",
              "    <path d=\"M0 0h24v24H0V0z\" fill=\"none\"/>\n",
              "    <path d=\"M18.56 5.44l.94 2.06.94-2.06 2.06-.94-2.06-.94-.94-2.06-.94 2.06-2.06.94zm-11 1L8.5 8.5l.94-2.06 2.06-.94-2.06-.94L8.5 2.5l-.94 2.06-2.06.94zm10 10l.94 2.06.94-2.06 2.06-.94-2.06-.94-.94-2.06-.94 2.06-2.06.94z\"/><path d=\"M17.41 7.96l-1.37-1.37c-.4-.4-.92-.59-1.43-.59-.52 0-1.04.2-1.43.59L10.3 9.45l-7.72 7.72c-.78.78-.78 2.05 0 2.83L4 21.41c.39.39.9.59 1.41.59.51 0 1.02-.2 1.41-.59l7.78-7.78 2.81-2.81c.8-.78.8-2.07 0-2.86zM5.41 20L4 18.59l7.72-7.72 1.47 1.35L5.41 20z\"/>\n",
              "  </svg>\n",
              "      </button>\n",
              "      \n",
              "  <style>\n",
              "    .colab-df-container {\n",
              "      display:flex;\n",
              "      flex-wrap:wrap;\n",
              "      gap: 12px;\n",
              "    }\n",
              "\n",
              "    .colab-df-convert {\n",
              "      background-color: #E8F0FE;\n",
              "      border: none;\n",
              "      border-radius: 50%;\n",
              "      cursor: pointer;\n",
              "      display: none;\n",
              "      fill: #1967D2;\n",
              "      height: 32px;\n",
              "      padding: 0 0 0 0;\n",
              "      width: 32px;\n",
              "    }\n",
              "\n",
              "    .colab-df-convert:hover {\n",
              "      background-color: #E2EBFA;\n",
              "      box-shadow: 0px 1px 2px rgba(60, 64, 67, 0.3), 0px 1px 3px 1px rgba(60, 64, 67, 0.15);\n",
              "      fill: #174EA6;\n",
              "    }\n",
              "\n",
              "    [theme=dark] .colab-df-convert {\n",
              "      background-color: #3B4455;\n",
              "      fill: #D2E3FC;\n",
              "    }\n",
              "\n",
              "    [theme=dark] .colab-df-convert:hover {\n",
              "      background-color: #434B5C;\n",
              "      box-shadow: 0px 1px 3px 1px rgba(0, 0, 0, 0.15);\n",
              "      filter: drop-shadow(0px 1px 2px rgba(0, 0, 0, 0.3));\n",
              "      fill: #FFFFFF;\n",
              "    }\n",
              "  </style>\n",
              "\n",
              "      <script>\n",
              "        const buttonEl =\n",
              "          document.querySelector('#df-02ca20c0-c73f-4657-8043-40ab5e20edf2 button.colab-df-convert');\n",
              "        buttonEl.style.display =\n",
              "          google.colab.kernel.accessAllowed ? 'block' : 'none';\n",
              "\n",
              "        async function convertToInteractive(key) {\n",
              "          const element = document.querySelector('#df-02ca20c0-c73f-4657-8043-40ab5e20edf2');\n",
              "          const dataTable =\n",
              "            await google.colab.kernel.invokeFunction('convertToInteractive',\n",
              "                                                     [key], {});\n",
              "          if (!dataTable) return;\n",
              "\n",
              "          const docLinkHtml = 'Like what you see? Visit the ' +\n",
              "            '<a target=\"_blank\" href=https://colab.research.google.com/notebooks/data_table.ipynb>data table notebook</a>'\n",
              "            + ' to learn more about interactive tables.';\n",
              "          element.innerHTML = '';\n",
              "          dataTable['output_type'] = 'display_data';\n",
              "          await google.colab.output.renderOutput(dataTable, element);\n",
              "          const docLink = document.createElement('div');\n",
              "          docLink.innerHTML = docLinkHtml;\n",
              "          element.appendChild(docLink);\n",
              "        }\n",
              "      </script>\n",
              "    </div>\n",
              "  </div>\n",
              "  "
            ]
          },
          "metadata": {},
          "execution_count": 6
        }
      ],
      "source": [
        "df.head()"
      ]
    },
    {
      "cell_type": "code",
      "execution_count": null,
      "metadata": {
        "id": "sL5UnyNHKRmQ"
      },
      "outputs": [],
      "source": [
        "df['PERIODO']\n",
        "x = df['PERIODO'].values.tolist()\n",
        "y1 = df['Peru'].values.tolist()\n",
        "y2 = df['Mundo'].values.tolist()\n",
        "mycolors = ['tab:red', 'tab:blue', 'tab:green', 'tab:orange', 'tab:brown', 'tab:grey', 'tab:pink', 'tab:olive']      \n",
        "columns = ['Peru', 'Mundo']\n"
      ]
    },
    {
      "cell_type": "code",
      "execution_count": null,
      "metadata": {
        "colab": {
          "base_uri": "https://localhost:8080/",
          "height": 521
        },
        "id": "PZKq2kffKRmR",
        "outputId": "178d8227-5020-489a-de91-73846485b96e"
      },
      "outputs": [
        {
          "output_type": "display_data",
          "data": {
            "text/plain": [
              "<Figure size 1280x720 with 1 Axes>"
            ],
            "image/png": "[encoded data removed]"
          },
          "metadata": {
            "needs_background": "light"
          }
        }
      ],
      "source": [
        "\n",
        "# Draw Plot \n",
        "fig, ax = plt.subplots(1, 1, figsize=(16,9), dpi= 80)\n",
        "\n",
        "ax.fill_between(x, y1=y2, y2=0, label=columns[1], alpha=0.8, color=mycolors[5], linewidth=2)\n",
        "#ax.fill_between(x, y1=y2, y2=0, label=columns[0], alpha=0.5, color=mycolors[0], linewidth=2)\n",
        "ax.bar(x, y1, color=mycolors[0], linewidth=2, alpha=0.6,label=columns[0])\n",
        "\n",
        "\n",
        "# Decorations\n",
        "ax.set_title('PBI: Perú y el Mundo', fontsize=18)\n",
        "ax.set_ylabel(\"PBI VAR\") # Agrego estos complemtos para mayor información al gráfico\n",
        "ax.set_xlabel(\"Años\")\n",
        "ax.set(ylim=[-15, 25])  # También modifiqué el rango de los valores del dataframe\n",
        "ax.legend(loc='best', fontsize=12)\n",
        "plt.xticks(x, fontsize=8, horizontalalignment='center',rotation='vertical')\n",
        "plt.yticks(np.arange(-15, 15, 2.5), fontsize=10)\n",
        "plt.xlim(0,51) # Modifiqué esto; el error era que se indicaba graficar las observaciones 1971 a la 2022 (el dataframe es de 52 obs)\n",
        "\n",
        "# Draw Tick lines  \n",
        "for y in np.arange(2.5, 30.0, 2.5):    \n",
        "    plt.hlines(y, xmin=0, xmax=len(x), colors='black', alpha=0.8, linestyles=\"--\", lw=0.5)\n",
        "\n",
        "# Lighten borders\n",
        "plt.gca().spines[\"top\"].set_alpha(0.3)\n",
        "plt.gca().spines[\"bottom\"].set_alpha(.3)\n",
        "plt.gca().spines[\"right\"].set_alpha(0.3)\n",
        "plt.gca().spines[\"left\"].set_alpha(.3)\n",
        "plt.show()\n",
        "\n"
      ]
    }
  ],
  "metadata": {
    "kernelspec": {
      "display_name": "Python 3",
      "language": "python",
      "name": "python3"
    },
    "language_info": {
      "codemirror_mode": {
        "name": "ipython",
        "version": 3
      },
      "file_extension": ".py",
      "mimetype": "text/x-python",
      "name": "python",
      "nbconvert_exporter": "python",
      "pygments_lexer": "ipython3",
      "version": "3.7.6"
    },
    "colab": {
      "provenance": [],
      "include_colab_link": true
    }
  },
  "nbformat": 4,
  "nbformat_minor": 0
}